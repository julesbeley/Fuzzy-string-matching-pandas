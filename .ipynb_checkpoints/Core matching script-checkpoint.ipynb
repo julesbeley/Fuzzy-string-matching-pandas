{
 "cells": [
  {
   "cell_type": "code",
   "execution_count": null,
   "id": "industrial-manchester",
   "metadata": {},
   "outputs": [],
   "source": [
    "import pandas as pd\n",
    "from Levenshtein import ratio\n",
    "import numpy as np\n",
    "\n",
    "def make_dict(df,key,str_col):\n",
    "    df = dict(zip(df[key],df[str_col].str.lower()))\n",
    "    return(df)\n",
    "\n",
    "unique_keys = [[list(i.keys())[0]] for i in all_dicts]\n",
    "duplicates = []\n",
    "threshold = 0.85\n",
    "\n",
    "all_dicts = df.apply(make_dict).tolist()\n",
    "\n",
    "for i in country_dict:\n",
    "    results = [ratio(country_dict[i],country_dict[j]) for j in unique_IDs[n]]\n",
    "    if all(j < threshold for j in results):\n",
    "        unique_IDs[n].append(i)\n",
    "    else:\n",
    "        indices = []\n",
    "        for index,result in enumerate(results):\n",
    "            if result >= threshold:\n",
    "                indices.append(index)\n",
    "        original = [unique_IDs[n][index] for index in indices]\n",
    "        true_original = original[0]\n",
    "        if len(original) > 0:\n",
    "            for m in original[1:]:\n",
    "                unique_IDs[n].remove(m)\n",
    "                duplicates.append([true_original,m])\n",
    "                for o,p in enumerate(duplicates):\n",
    "                    if p[0] == m:\n",
    "                        duplicates[o][0] = true_original\n",
    "        if true_original != i: # problem with self-duplication in each country\n",
    "            duplicates.append([true_original,i])"
   ]
  }
 ],
 "metadata": {
  "kernelspec": {
   "display_name": "Python 3",
   "language": "python",
   "name": "python3"
  },
  "language_info": {
   "codemirror_mode": {
    "name": "ipython",
    "version": 3
   },
   "file_extension": ".py",
   "mimetype": "text/x-python",
   "name": "python",
   "nbconvert_exporter": "python",
   "pygments_lexer": "ipython3",
   "version": "3.8.8"
  }
 },
 "nbformat": 4,
 "nbformat_minor": 5
}
